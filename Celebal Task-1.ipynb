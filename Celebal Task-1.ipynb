{
 "cells": [
  {
   "cell_type": "code",
   "execution_count": 1,
   "id": "33746ae0",
   "metadata": {},
   "outputs": [],
   "source": [
    "import numpy as np\n",
    "import pandas as pd"
   ]
  },
  {
   "cell_type": "markdown",
   "id": "15726f2c",
   "metadata": {},
   "source": [
    "# Type Casting"
   ]
  },
  {
   "cell_type": "markdown",
   "id": "feb8d597",
   "metadata": {},
   "source": [
    "1. Integer to float"
   ]
  },
  {
   "cell_type": "code",
   "execution_count": 2,
   "id": "69a69f8a",
   "metadata": {},
   "outputs": [
    {
     "name": "stdout",
     "output_type": "stream",
     "text": [
      "5.0\n"
     ]
    },
    {
     "data": {
      "text/plain": [
       "float"
      ]
     },
     "execution_count": 2,
     "metadata": {},
     "output_type": "execute_result"
    }
   ],
   "source": [
    "a=5\n",
    "b=float(a)\n",
    "print(b)\n",
    "type(b)"
   ]
  },
  {
   "cell_type": "markdown",
   "id": "4ce9ee80",
   "metadata": {},
   "source": [
    "2. Integer to string"
   ]
  },
  {
   "cell_type": "code",
   "execution_count": 3,
   "id": "d47d01a5",
   "metadata": {},
   "outputs": [
    {
     "name": "stdout",
     "output_type": "stream",
     "text": [
      "5\n"
     ]
    },
    {
     "data": {
      "text/plain": [
       "str"
      ]
     },
     "execution_count": 3,
     "metadata": {},
     "output_type": "execute_result"
    }
   ],
   "source": [
    "a=5\n",
    "b=str(a)\n",
    "print(b)\n",
    "type(b)"
   ]
  },
  {
   "cell_type": "markdown",
   "id": "e475ddaa",
   "metadata": {},
   "source": [
    "3. Integer to boolean"
   ]
  },
  {
   "cell_type": "code",
   "execution_count": 4,
   "id": "5c3bb9ab",
   "metadata": {},
   "outputs": [
    {
     "name": "stdout",
     "output_type": "stream",
     "text": [
      "True\n"
     ]
    },
    {
     "data": {
      "text/plain": [
       "bool"
      ]
     },
     "execution_count": 4,
     "metadata": {},
     "output_type": "execute_result"
    }
   ],
   "source": [
    "a=5\n",
    "b=bool(a)\n",
    "print(b)\n",
    "type(b)"
   ]
  },
  {
   "cell_type": "markdown",
   "id": "89b8d068",
   "metadata": {},
   "source": [
    "4. Float to integer"
   ]
  },
  {
   "cell_type": "code",
   "execution_count": 5,
   "id": "647189f6",
   "metadata": {},
   "outputs": [
    {
     "name": "stdout",
     "output_type": "stream",
     "text": [
      "5\n"
     ]
    },
    {
     "data": {
      "text/plain": [
       "int"
      ]
     },
     "execution_count": 5,
     "metadata": {},
     "output_type": "execute_result"
    }
   ],
   "source": [
    "a=5.0\n",
    "b=int(a)\n",
    "print(b)\n",
    "type(b)"
   ]
  },
  {
   "cell_type": "markdown",
   "id": "fe26e9d6",
   "metadata": {},
   "source": [
    "5. Float to string"
   ]
  },
  {
   "cell_type": "code",
   "execution_count": 6,
   "id": "b0fc3eac",
   "metadata": {},
   "outputs": [
    {
     "name": "stdout",
     "output_type": "stream",
     "text": [
      "5.0\n"
     ]
    },
    {
     "data": {
      "text/plain": [
       "str"
      ]
     },
     "execution_count": 6,
     "metadata": {},
     "output_type": "execute_result"
    }
   ],
   "source": [
    "a=5.0\n",
    "b=str(a)\n",
    "print(b)\n",
    "type(b)"
   ]
  },
  {
   "cell_type": "markdown",
   "id": "148b5b84",
   "metadata": {},
   "source": [
    "6. Float to boolean"
   ]
  },
  {
   "cell_type": "code",
   "execution_count": 7,
   "id": "b09cf348",
   "metadata": {},
   "outputs": [
    {
     "name": "stdout",
     "output_type": "stream",
     "text": [
      "True\n"
     ]
    },
    {
     "data": {
      "text/plain": [
       "bool"
      ]
     },
     "execution_count": 7,
     "metadata": {},
     "output_type": "execute_result"
    }
   ],
   "source": [
    "a=5.0\n",
    "b=bool(a)\n",
    "print(b)\n",
    "type(b)"
   ]
  },
  {
   "cell_type": "markdown",
   "id": "4b2a4260",
   "metadata": {},
   "source": [
    "7. String to integer"
   ]
  },
  {
   "cell_type": "code",
   "execution_count": 8,
   "id": "0b3b2d2a",
   "metadata": {},
   "outputs": [
    {
     "name": "stdout",
     "output_type": "stream",
     "text": [
      "5\n"
     ]
    },
    {
     "data": {
      "text/plain": [
       "int"
      ]
     },
     "execution_count": 8,
     "metadata": {},
     "output_type": "execute_result"
    }
   ],
   "source": [
    "a=\"5\"\n",
    "b=int(a)\n",
    "print(b)\n",
    "type(b)"
   ]
  },
  {
   "cell_type": "markdown",
   "id": "0f60b531",
   "metadata": {},
   "source": [
    "8. String to float"
   ]
  },
  {
   "cell_type": "code",
   "execution_count": 9,
   "id": "6547be85",
   "metadata": {},
   "outputs": [
    {
     "name": "stdout",
     "output_type": "stream",
     "text": [
      "5.0\n"
     ]
    },
    {
     "data": {
      "text/plain": [
       "float"
      ]
     },
     "execution_count": 9,
     "metadata": {},
     "output_type": "execute_result"
    }
   ],
   "source": [
    "a=\"5\"\n",
    "b=float(a)\n",
    "print(b)\n",
    "type(b)"
   ]
  },
  {
   "cell_type": "markdown",
   "id": "0c4011af",
   "metadata": {},
   "source": [
    "9. String to boolean"
   ]
  },
  {
   "cell_type": "code",
   "execution_count": 12,
   "id": "80f3f9c2",
   "metadata": {},
   "outputs": [
    {
     "name": "stdout",
     "output_type": "stream",
     "text": [
      "True\n"
     ]
    },
    {
     "data": {
      "text/plain": [
       "bool"
      ]
     },
     "execution_count": 12,
     "metadata": {},
     "output_type": "execute_result"
    }
   ],
   "source": [
    "a=\"5\"\n",
    "b=bool(a)\n",
    "print(b)\n",
    "type(b)"
   ]
  },
  {
   "cell_type": "markdown",
   "id": "3dedae7b",
   "metadata": {},
   "source": [
    "10. Boolean to integer"
   ]
  },
  {
   "cell_type": "code",
   "execution_count": 13,
   "id": "b77f3c93",
   "metadata": {},
   "outputs": [
    {
     "name": "stdout",
     "output_type": "stream",
     "text": [
      "1\n"
     ]
    },
    {
     "data": {
      "text/plain": [
       "int"
      ]
     },
     "execution_count": 13,
     "metadata": {},
     "output_type": "execute_result"
    }
   ],
   "source": [
    "a=True\n",
    "b=int(a)\n",
    "print(b)\n",
    "type(b)"
   ]
  },
  {
   "cell_type": "markdown",
   "id": "3678462f",
   "metadata": {},
   "source": [
    "11.  Boolean to float"
   ]
  },
  {
   "cell_type": "code",
   "execution_count": 14,
   "id": "d6e86d16",
   "metadata": {},
   "outputs": [
    {
     "name": "stdout",
     "output_type": "stream",
     "text": [
      "1.0\n"
     ]
    },
    {
     "data": {
      "text/plain": [
       "float"
      ]
     },
     "execution_count": 14,
     "metadata": {},
     "output_type": "execute_result"
    }
   ],
   "source": [
    "a=True\n",
    "b=float(a)\n",
    "print(b)\n",
    "type(b)"
   ]
  },
  {
   "cell_type": "markdown",
   "id": "a26a96f2",
   "metadata": {},
   "source": [
    "12. Boolean to string"
   ]
  },
  {
   "cell_type": "code",
   "execution_count": 16,
   "id": "9d3c395b",
   "metadata": {},
   "outputs": [
    {
     "name": "stdout",
     "output_type": "stream",
     "text": [
      "True\n"
     ]
    },
    {
     "data": {
      "text/plain": [
       "str"
      ]
     },
     "execution_count": 16,
     "metadata": {},
     "output_type": "execute_result"
    }
   ],
   "source": [
    "a=True\n",
    "b=str(a)\n",
    "print(b)\n",
    "type(b)"
   ]
  },
  {
   "cell_type": "markdown",
   "id": "37bde9cd",
   "metadata": {},
   "source": [
    "From/          int          float          string          boolean\n",
    "To\n",
    "\n",
    "int            -             ✓              ✓               ✓\n",
    "\n",
    "float          ✓             -              ✓               ✓\n",
    "\n",
    "string         ✓             ✓              -               ✓ \n",
    "         (only numeric)  (only numeric)\n",
    "\n",
    "boolean        ✓             ✓              ✓               - "
   ]
  },
  {
   "cell_type": "markdown",
   "id": "472d823f",
   "metadata": {},
   "source": [
    "# Understand Mutable & Immutable Concepts"
   ]
  },
  {
   "cell_type": "markdown",
   "id": "de250456",
   "metadata": {},
   "source": [
    "1. Mutable.\n",
    "\n",
    "-- It is an object whose state can be changed after it has been created. \n",
    "-- This means that you can modify its properties, elements or attributes. \n",
    "-- Examples: lists, dictionaries and sets."
   ]
  },
  {
   "cell_type": "code",
   "execution_count": 21,
   "id": "c7935cd4",
   "metadata": {},
   "outputs": [
    {
     "name": "stdout",
     "output_type": "stream",
     "text": [
      "[1, 4, 3]\n"
     ]
    }
   ],
   "source": [
    "list=[1,2,3]\n",
    "list[1]=4\n",
    "print(list)"
   ]
  },
  {
   "cell_type": "markdown",
   "id": "1004a341",
   "metadata": {},
   "source": [
    "2. Immutable.\n",
    "\n",
    "-- It is an object whose state cannot be changed after it has been created. \n",
    "-- This means that once the object is created, its properties, elements or attributes cannot be modified. \n",
    "-- Examples: numbers, strings and tuples."
   ]
  },
  {
   "cell_type": "code",
   "execution_count": 22,
   "id": "fe26bef6",
   "metadata": {},
   "outputs": [
    {
     "ename": "TypeError",
     "evalue": "'tuple' object does not support item assignment",
     "output_type": "error",
     "traceback": [
      "\u001b[1;31m---------------------------------------------------------------------------\u001b[0m",
      "\u001b[1;31mTypeError\u001b[0m                                 Traceback (most recent call last)",
      "\u001b[1;32m~\\AppData\\Local\\Temp\\ipykernel_16076\\1498631045.py\u001b[0m in \u001b[0;36m<module>\u001b[1;34m\u001b[0m\n\u001b[0;32m      1\u001b[0m \u001b[0mtuple\u001b[0m\u001b[1;33m=\u001b[0m\u001b[1;33m(\u001b[0m\u001b[1;36m1\u001b[0m\u001b[1;33m,\u001b[0m\u001b[1;36m2\u001b[0m\u001b[1;33m,\u001b[0m\u001b[1;36m3\u001b[0m\u001b[1;33m)\u001b[0m\u001b[1;33m\u001b[0m\u001b[1;33m\u001b[0m\u001b[0m\n\u001b[1;32m----> 2\u001b[1;33m \u001b[0mtuple\u001b[0m\u001b[1;33m[\u001b[0m\u001b[1;36m1\u001b[0m\u001b[1;33m]\u001b[0m\u001b[1;33m=\u001b[0m\u001b[1;36m4\u001b[0m\u001b[1;33m\u001b[0m\u001b[1;33m\u001b[0m\u001b[0m\n\u001b[0m\u001b[0;32m      3\u001b[0m \u001b[0mprint\u001b[0m\u001b[1;33m(\u001b[0m\u001b[0mtuple\u001b[0m\u001b[1;33m)\u001b[0m\u001b[1;33m\u001b[0m\u001b[1;33m\u001b[0m\u001b[0m\n",
      "\u001b[1;31mTypeError\u001b[0m: 'tuple' object does not support item assignment"
     ]
    }
   ],
   "source": [
    "tuple=(1,2,3)\n",
    "tuple[1]=4\n",
    "print(tuple)"
   ]
  },
  {
   "cell_type": "markdown",
   "id": "71ceac55",
   "metadata": {},
   "source": [
    "# Summarize all points of List, Tuple, Set and Dictionary"
   ]
  },
  {
   "cell_type": "markdown",
   "id": "be3ae693",
   "metadata": {},
   "source": [
    "Properties/               List                    Tuple                       Set                            Dictionary\n",
    "Use Cases\n",
    "\n",
    "1) Definition   Collection of elements,   Collection of elements,   Unordered collection of unique    Collection of key-value\n",
    "                where each element can    where each element can    elements, where each element      pairs, where each key and\n",
    "                be of any type.           be of any type.           can be of any type.               value can be of any type.\n",
    " \n",
    "2) Mutability          Mutable                 Immutable                   Mutable                           Mutable\n",
    "\n",
    "3) Symbol                []                       ()                         {}                           {\"key\" : value}\n",
    "\n",
    "4) Indexing             Valid                    Valid                      Invalid                           Invalid\n",
    "\n",
    "5) Slicing              Valid                    Valid                      Invalid                           Invalid \n",
    "\n",
    "6) Storage              High                   Medium-High                    Low                              Medium\n",
    "\n",
    "7) Efficiency           Low                      Medium                       High                           Medium-High \n",
    "\n",
    "8) Collection          Ordered                  Ordered                     Unordered                         Unordered\n",
    "\n",
    "9) Repitition           Valid                    Valid                       Invalid                           Invalid\n",
    "\n",
    "10) Example          [1,2,\"three\"]            (1,2,\"three\")                {1,2,\"three\"}             {\"a\":\"one\",\"b\":2,\"c\":[3,4]}\n"
   ]
  },
  {
   "cell_type": "code",
   "execution_count": null,
   "id": "34191526",
   "metadata": {},
   "outputs": [],
   "source": []
  }
 ],
 "metadata": {
  "kernelspec": {
   "display_name": "Python 3 (ipykernel)",
   "language": "python",
   "name": "python3"
  },
  "language_info": {
   "codemirror_mode": {
    "name": "ipython",
    "version": 3
   },
   "file_extension": ".py",
   "mimetype": "text/x-python",
   "name": "python",
   "nbconvert_exporter": "python",
   "pygments_lexer": "ipython3",
   "version": "3.7.4"
  }
 },
 "nbformat": 4,
 "nbformat_minor": 5
}
